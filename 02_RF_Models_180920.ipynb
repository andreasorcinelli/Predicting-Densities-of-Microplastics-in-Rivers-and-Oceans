{
 "cells": [
  {
   "cell_type": "code",
   "execution_count": 1,
   "metadata": {},
   "outputs": [],
   "source": [
    "import pandas as pd\n",
    "import numpy as np\n",
    "import pickle\n",
    "import matplotlib.pyplot as plt\n",
    "%matplotlib inline"
   ]
  },
  {
   "cell_type": "markdown",
   "metadata": {},
   "source": [
    "### eda"
   ]
  },
  {
   "cell_type": "code",
   "execution_count": 2,
   "metadata": {},
   "outputs": [],
   "source": [
    "plastics = pd.read_csv('master_datasheet.csv', encoding = 'ISO-8859-1')"
   ]
  },
  {
   "cell_type": "code",
   "execution_count": 3,
   "metadata": {},
   "outputs": [
    {
     "data": {
      "text/html": [
       "<div>\n",
       "<style scoped>\n",
       "    .dataframe tbody tr th:only-of-type {\n",
       "        vertical-align: middle;\n",
       "    }\n",
       "\n",
       "    .dataframe tbody tr th {\n",
       "        vertical-align: top;\n",
       "    }\n",
       "\n",
       "    .dataframe thead th {\n",
       "        text-align: right;\n",
       "    }\n",
       "</style>\n",
       "<table border=\"1\" class=\"dataframe\">\n",
       "  <thead>\n",
       "    <tr style=\"text-align: right;\">\n",
       "      <th></th>\n",
       "      <th>p_record</th>\n",
       "      <th>p_total_pieces</th>\n",
       "      <th>p_total_pieces_litre</th>\n",
       "      <th>p_lat</th>\n",
       "      <th>p_long</th>\n",
       "      <th>ocean_inland</th>\n",
       "      <th>ocean_inland_cat</th>\n",
       "      <th>sample_waters</th>\n",
       "      <th>c_city_1</th>\n",
       "      <th>c_country_1</th>\n",
       "      <th>...</th>\n",
       "      <th>distance_from_city_3</th>\n",
       "      <th>r_name_1</th>\n",
       "      <th>r_vol_1</th>\n",
       "      <th>distance_from_river_1</th>\n",
       "      <th>r_name_2</th>\n",
       "      <th>r_vol_2</th>\n",
       "      <th>distance_from_river_2</th>\n",
       "      <th>r_name_3</th>\n",
       "      <th>r_vol_3</th>\n",
       "      <th>distance_from_river_3</th>\n",
       "    </tr>\n",
       "  </thead>\n",
       "  <tbody>\n",
       "    <tr>\n",
       "      <th>0</th>\n",
       "      <td>1</td>\n",
       "      <td>1</td>\n",
       "      <td>1.0</td>\n",
       "      <td>59.378683</td>\n",
       "      <td>-153.520867</td>\n",
       "      <td>Ocean</td>\n",
       "      <td>0</td>\n",
       "      <td>Coastal</td>\n",
       "      <td>haines junction</td>\n",
       "      <td>ca</td>\n",
       "      <td>...</td>\n",
       "      <td>1040.987575</td>\n",
       "      <td>Nushagak</td>\n",
       "      <td>31.0</td>\n",
       "      <td>225.769431</td>\n",
       "      <td>Susitna</td>\n",
       "      <td>45.0</td>\n",
       "      <td>288.208881</td>\n",
       "      <td>Kuskokwim</td>\n",
       "      <td>57.0</td>\n",
       "      <td>375.228343</td>\n",
       "    </tr>\n",
       "    <tr>\n",
       "      <th>1</th>\n",
       "      <td>2</td>\n",
       "      <td>10</td>\n",
       "      <td>10.0</td>\n",
       "      <td>59.368133</td>\n",
       "      <td>-153.552333</td>\n",
       "      <td>Ocean</td>\n",
       "      <td>0</td>\n",
       "      <td>Coastal</td>\n",
       "      <td>haines junction</td>\n",
       "      <td>ca</td>\n",
       "      <td>...</td>\n",
       "      <td>1032.655446</td>\n",
       "      <td>Nushagak</td>\n",
       "      <td>31.0</td>\n",
       "      <td>223.979313</td>\n",
       "      <td>Nushagak</td>\n",
       "      <td>31.0</td>\n",
       "      <td>225.769431</td>\n",
       "      <td>Susitna</td>\n",
       "      <td>45.0</td>\n",
       "      <td>288.208881</td>\n",
       "    </tr>\n",
       "    <tr>\n",
       "      <th>2</th>\n",
       "      <td>3</td>\n",
       "      <td>14</td>\n",
       "      <td>14.0</td>\n",
       "      <td>59.341467</td>\n",
       "      <td>-153.549767</td>\n",
       "      <td>Ocean</td>\n",
       "      <td>0</td>\n",
       "      <td>Coastal</td>\n",
       "      <td>haines junction</td>\n",
       "      <td>ca</td>\n",
       "      <td>...</td>\n",
       "      <td>902.375026</td>\n",
       "      <td>Nushagak</td>\n",
       "      <td>31.0</td>\n",
       "      <td>223.979313</td>\n",
       "      <td>Nushagak</td>\n",
       "      <td>31.0</td>\n",
       "      <td>224.132067</td>\n",
       "      <td>Nushagak</td>\n",
       "      <td>31.0</td>\n",
       "      <td>225.769431</td>\n",
       "    </tr>\n",
       "    <tr>\n",
       "      <th>3</th>\n",
       "      <td>4</td>\n",
       "      <td>17</td>\n",
       "      <td>17.0</td>\n",
       "      <td>59.638717</td>\n",
       "      <td>-153.395667</td>\n",
       "      <td>Ocean</td>\n",
       "      <td>0</td>\n",
       "      <td>Coastal</td>\n",
       "      <td>haines junction</td>\n",
       "      <td>ca</td>\n",
       "      <td>...</td>\n",
       "      <td>901.658282</td>\n",
       "      <td>Nushagak</td>\n",
       "      <td>31.0</td>\n",
       "      <td>223.979313</td>\n",
       "      <td>Nushagak</td>\n",
       "      <td>31.0</td>\n",
       "      <td>224.132067</td>\n",
       "      <td>Nushagak</td>\n",
       "      <td>31.0</td>\n",
       "      <td>225.769431</td>\n",
       "    </tr>\n",
       "    <tr>\n",
       "      <th>4</th>\n",
       "      <td>5</td>\n",
       "      <td>71</td>\n",
       "      <td>71.0</td>\n",
       "      <td>59.373600</td>\n",
       "      <td>-153.448067</td>\n",
       "      <td>Ocean</td>\n",
       "      <td>0</td>\n",
       "      <td>Coastal</td>\n",
       "      <td>haines junction</td>\n",
       "      <td>ca</td>\n",
       "      <td>...</td>\n",
       "      <td>899.614321</td>\n",
       "      <td>Nushagak</td>\n",
       "      <td>31.0</td>\n",
       "      <td>223.979313</td>\n",
       "      <td>Nushagak</td>\n",
       "      <td>31.0</td>\n",
       "      <td>224.132067</td>\n",
       "      <td>Nushagak</td>\n",
       "      <td>31.0</td>\n",
       "      <td>225.769431</td>\n",
       "    </tr>\n",
       "  </tbody>\n",
       "</table>\n",
       "<p>5 rows × 29 columns</p>\n",
       "</div>"
      ],
      "text/plain": [
       "   p_record  p_total_pieces  p_total_pieces_litre      p_lat      p_long  \\\n",
       "0         1               1                   1.0  59.378683 -153.520867   \n",
       "1         2              10                  10.0  59.368133 -153.552333   \n",
       "2         3              14                  14.0  59.341467 -153.549767   \n",
       "3         4              17                  17.0  59.638717 -153.395667   \n",
       "4         5              71                  71.0  59.373600 -153.448067   \n",
       "\n",
       "  ocean_inland  ocean_inland_cat sample_waters         c_city_1 c_country_1  \\\n",
       "0        Ocean                 0       Coastal  haines junction          ca   \n",
       "1        Ocean                 0       Coastal  haines junction          ca   \n",
       "2        Ocean                 0       Coastal  haines junction          ca   \n",
       "3        Ocean                 0       Coastal  haines junction          ca   \n",
       "4        Ocean                 0       Coastal  haines junction          ca   \n",
       "\n",
       "           ...            distance_from_city_3  r_name_1 r_vol_1  \\\n",
       "0          ...                     1040.987575  Nushagak    31.0   \n",
       "1          ...                     1032.655446  Nushagak    31.0   \n",
       "2          ...                      902.375026  Nushagak    31.0   \n",
       "3          ...                      901.658282  Nushagak    31.0   \n",
       "4          ...                      899.614321  Nushagak    31.0   \n",
       "\n",
       "  distance_from_river_1  r_name_2  r_vol_2 distance_from_river_2   r_name_3  \\\n",
       "0            225.769431   Susitna     45.0            288.208881  Kuskokwim   \n",
       "1            223.979313  Nushagak     31.0            225.769431    Susitna   \n",
       "2            223.979313  Nushagak     31.0            224.132067   Nushagak   \n",
       "3            223.979313  Nushagak     31.0            224.132067   Nushagak   \n",
       "4            223.979313  Nushagak     31.0            224.132067   Nushagak   \n",
       "\n",
       "   r_vol_3  distance_from_river_3  \n",
       "0     57.0             375.228343  \n",
       "1     45.0             288.208881  \n",
       "2     31.0             225.769431  \n",
       "3     31.0             225.769431  \n",
       "4     31.0             225.769431  \n",
       "\n",
       "[5 rows x 29 columns]"
      ]
     },
     "execution_count": 3,
     "metadata": {},
     "output_type": "execute_result"
    }
   ],
   "source": [
    "plastics.head()"
   ]
  },
  {
   "cell_type": "code",
   "execution_count": 4,
   "metadata": {},
   "outputs": [
    {
     "data": {
      "text/plain": [
       "(2402, 29)"
      ]
     },
     "execution_count": 4,
     "metadata": {},
     "output_type": "execute_result"
    }
   ],
   "source": [
    "plastics.shape"
   ]
  },
  {
   "cell_type": "code",
   "execution_count": 5,
   "metadata": {},
   "outputs": [
    {
     "name": "stdout",
     "output_type": "stream",
     "text": [
      "Index(['p_lat', 'p_long', 'ocean_inland', 'ocean_inland_cat', 'sample_waters',\n",
      "       'c_city_1', 'c_country_1', 'c_population_1', 'distance_from_city_1',\n",
      "       'c_city_2', 'c_country_2', 'c_population_2', 'distance_from_city_2',\n",
      "       'c_city_3', 'c_country_3', 'c_population_3', 'distance_from_city_3',\n",
      "       'r_name_1', 'r_vol_1', 'distance_from_river_1', 'r_name_2', 'r_vol_2',\n",
      "       'distance_from_river_2', 'r_name_3', 'r_vol_3',\n",
      "       'distance_from_river_3'],\n",
      "      dtype='object')\n"
     ]
    }
   ],
   "source": [
    "X = plastics.loc[:,'p_lat':'distance_from_river_3']\n",
    "y = plastics['p_total_pieces_litre']\n",
    "print(X.columns)"
   ]
  },
  {
   "cell_type": "code",
   "execution_count": 6,
   "metadata": {},
   "outputs": [],
   "source": [
    "X = X.drop(columns = ['c_city_1','c_country_1','c_city_2','c_country_2','c_city_3','c_country_3',\\\n",
    "                     'r_name_1','r_name_2','r_name_3','sample_waters','ocean_inland'])"
   ]
  },
  {
   "cell_type": "code",
   "execution_count": 7,
   "metadata": {},
   "outputs": [
    {
     "data": {
      "text/html": [
       "<div>\n",
       "<style scoped>\n",
       "    .dataframe tbody tr th:only-of-type {\n",
       "        vertical-align: middle;\n",
       "    }\n",
       "\n",
       "    .dataframe tbody tr th {\n",
       "        vertical-align: top;\n",
       "    }\n",
       "\n",
       "    .dataframe thead th {\n",
       "        text-align: right;\n",
       "    }\n",
       "</style>\n",
       "<table border=\"1\" class=\"dataframe\">\n",
       "  <thead>\n",
       "    <tr style=\"text-align: right;\">\n",
       "      <th></th>\n",
       "      <th>p_lat</th>\n",
       "      <th>p_long</th>\n",
       "      <th>ocean_inland_cat</th>\n",
       "      <th>c_population_1</th>\n",
       "      <th>distance_from_city_1</th>\n",
       "      <th>c_population_2</th>\n",
       "      <th>distance_from_city_2</th>\n",
       "      <th>c_population_3</th>\n",
       "      <th>distance_from_city_3</th>\n",
       "      <th>r_vol_1</th>\n",
       "      <th>distance_from_river_1</th>\n",
       "      <th>r_vol_2</th>\n",
       "      <th>distance_from_river_2</th>\n",
       "      <th>r_vol_3</th>\n",
       "      <th>distance_from_river_3</th>\n",
       "    </tr>\n",
       "  </thead>\n",
       "  <tbody>\n",
       "    <tr>\n",
       "      <th>0</th>\n",
       "      <td>59.378683</td>\n",
       "      <td>-153.520867</td>\n",
       "      <td>0</td>\n",
       "      <td>1148</td>\n",
       "      <td>899.614321</td>\n",
       "      <td>19616</td>\n",
       "      <td>1032.655446</td>\n",
       "      <td>540</td>\n",
       "      <td>1040.987575</td>\n",
       "      <td>31.0</td>\n",
       "      <td>225.769431</td>\n",
       "      <td>45.0</td>\n",
       "      <td>288.208881</td>\n",
       "      <td>57.0</td>\n",
       "      <td>375.228343</td>\n",
       "    </tr>\n",
       "    <tr>\n",
       "      <th>1</th>\n",
       "      <td>59.368133</td>\n",
       "      <td>-153.552333</td>\n",
       "      <td>0</td>\n",
       "      <td>1148</td>\n",
       "      <td>899.614321</td>\n",
       "      <td>1148</td>\n",
       "      <td>901.658282</td>\n",
       "      <td>19616</td>\n",
       "      <td>1032.655446</td>\n",
       "      <td>31.0</td>\n",
       "      <td>223.979313</td>\n",
       "      <td>31.0</td>\n",
       "      <td>225.769431</td>\n",
       "      <td>45.0</td>\n",
       "      <td>288.208881</td>\n",
       "    </tr>\n",
       "    <tr>\n",
       "      <th>2</th>\n",
       "      <td>59.341467</td>\n",
       "      <td>-153.549767</td>\n",
       "      <td>0</td>\n",
       "      <td>1148</td>\n",
       "      <td>899.614321</td>\n",
       "      <td>1148</td>\n",
       "      <td>901.658282</td>\n",
       "      <td>1148</td>\n",
       "      <td>902.375026</td>\n",
       "      <td>31.0</td>\n",
       "      <td>223.979313</td>\n",
       "      <td>31.0</td>\n",
       "      <td>224.132067</td>\n",
       "      <td>31.0</td>\n",
       "      <td>225.769431</td>\n",
       "    </tr>\n",
       "    <tr>\n",
       "      <th>3</th>\n",
       "      <td>59.638717</td>\n",
       "      <td>-153.395667</td>\n",
       "      <td>0</td>\n",
       "      <td>1148</td>\n",
       "      <td>884.968485</td>\n",
       "      <td>1148</td>\n",
       "      <td>899.614321</td>\n",
       "      <td>1148</td>\n",
       "      <td>901.658282</td>\n",
       "      <td>31.0</td>\n",
       "      <td>223.979313</td>\n",
       "      <td>31.0</td>\n",
       "      <td>224.132067</td>\n",
       "      <td>31.0</td>\n",
       "      <td>225.769431</td>\n",
       "    </tr>\n",
       "    <tr>\n",
       "      <th>4</th>\n",
       "      <td>59.373600</td>\n",
       "      <td>-153.448067</td>\n",
       "      <td>0</td>\n",
       "      <td>1148</td>\n",
       "      <td>884.968485</td>\n",
       "      <td>1148</td>\n",
       "      <td>895.825488</td>\n",
       "      <td>1148</td>\n",
       "      <td>899.614321</td>\n",
       "      <td>31.0</td>\n",
       "      <td>223.979313</td>\n",
       "      <td>31.0</td>\n",
       "      <td>224.132067</td>\n",
       "      <td>31.0</td>\n",
       "      <td>225.769431</td>\n",
       "    </tr>\n",
       "  </tbody>\n",
       "</table>\n",
       "</div>"
      ],
      "text/plain": [
       "       p_lat      p_long  ocean_inland_cat  c_population_1  \\\n",
       "0  59.378683 -153.520867                 0            1148   \n",
       "1  59.368133 -153.552333                 0            1148   \n",
       "2  59.341467 -153.549767                 0            1148   \n",
       "3  59.638717 -153.395667                 0            1148   \n",
       "4  59.373600 -153.448067                 0            1148   \n",
       "\n",
       "   distance_from_city_1  c_population_2  distance_from_city_2  c_population_3  \\\n",
       "0            899.614321           19616           1032.655446             540   \n",
       "1            899.614321            1148            901.658282           19616   \n",
       "2            899.614321            1148            901.658282            1148   \n",
       "3            884.968485            1148            899.614321            1148   \n",
       "4            884.968485            1148            895.825488            1148   \n",
       "\n",
       "   distance_from_city_3  r_vol_1  distance_from_river_1  r_vol_2  \\\n",
       "0           1040.987575     31.0             225.769431     45.0   \n",
       "1           1032.655446     31.0             223.979313     31.0   \n",
       "2            902.375026     31.0             223.979313     31.0   \n",
       "3            901.658282     31.0             223.979313     31.0   \n",
       "4            899.614321     31.0             223.979313     31.0   \n",
       "\n",
       "   distance_from_river_2  r_vol_3  distance_from_river_3  \n",
       "0             288.208881     57.0             375.228343  \n",
       "1             225.769431     45.0             288.208881  \n",
       "2             224.132067     31.0             225.769431  \n",
       "3             224.132067     31.0             225.769431  \n",
       "4             224.132067     31.0             225.769431  "
      ]
     },
     "execution_count": 7,
     "metadata": {},
     "output_type": "execute_result"
    }
   ],
   "source": [
    "X.head()"
   ]
  },
  {
   "cell_type": "code",
   "execution_count": 8,
   "metadata": {},
   "outputs": [
    {
     "data": {
      "image/png": "[encoded data removed]",
      "text/plain": [
       "<Figure size 432x288 with 1 Axes>"
      ]
     },
     "metadata": {},
     "output_type": "display_data"
    }
   ],
   "source": [
    "plt.hist(plastics.p_total_pieces_litre,range=[0,200],bins=50);"
   ]
  },
  {
   "cell_type": "code",
   "execution_count": 9,
   "metadata": {},
   "outputs": [
    {
     "data": {
      "image/png": "[encoded data removed]",
      "text/plain": [
       "<Figure size 432x288 with 1 Axes>"
      ]
     },
     "metadata": {},
     "output_type": "display_data"
    }
   ],
   "source": [
    "plt.hist(plastics.p_total_pieces_litre,range=[0,50],bins=50);"
   ]
  },
  {
   "cell_type": "code",
   "execution_count": 10,
   "metadata": {},
   "outputs": [
    {
     "data": {
      "text/plain": [
       "7.3825907586773525"
      ]
     },
     "execution_count": 10,
     "metadata": {},
     "output_type": "execute_result"
    }
   ],
   "source": [
    "plastics['p_total_pieces_litre'].mean()"
   ]
  },
  {
   "cell_type": "code",
   "execution_count": 13,
   "metadata": {},
   "outputs": [
    {
     "data": {
      "text/plain": [
       "1.8181818180000002"
      ]
     },
     "execution_count": 13,
     "metadata": {},
     "output_type": "execute_result"
    }
   ],
   "source": [
    "plastics['p_total_pieces_litre'].median()"
   ]
  },
  {
   "cell_type": "code",
   "execution_count": 11,
   "metadata": {},
   "outputs": [
    {
     "data": {
      "text/plain": [
       "243.07692310000002"
      ]
     },
     "execution_count": 11,
     "metadata": {},
     "output_type": "execute_result"
    }
   ],
   "source": [
    "plastics['p_total_pieces_litre'].max()"
   ]
  },
  {
   "cell_type": "code",
   "execution_count": 12,
   "metadata": {},
   "outputs": [
    {
     "data": {
      "text/plain": [
       "0.0"
      ]
     },
     "execution_count": 12,
     "metadata": {},
     "output_type": "execute_result"
    }
   ],
   "source": [
    "plastics['p_total_pieces_litre'].min()"
   ]
  },
  {
   "cell_type": "markdown",
   "metadata": {
    "collapsed": true
   },
   "source": [
    "### more vis & eda"
   ]
  },
  {
   "cell_type": "code",
   "execution_count": 28,
   "metadata": {},
   "outputs": [],
   "source": [
    "ocean_plastics = pd.read_csv('WW Marine Datashare.csv', encoding = 'ISO-8859-1')"
   ]
  },
  {
   "cell_type": "code",
   "execution_count": 29,
   "metadata": {},
   "outputs": [],
   "source": [
    "river_plastics = pd.read_csv('WW Freshwater Datashare.csv', encoding = 'ISO-8859-1')"
   ]
  },
  {
   "cell_type": "code",
   "execution_count": 32,
   "metadata": {},
   "outputs": [],
   "source": [
    "ocean_plastics.rename(columns={'Total Pieces/L': 'p_total_pieces_litre'}, inplace=True)"
   ]
  },
  {
   "cell_type": "code",
   "execution_count": 33,
   "metadata": {},
   "outputs": [],
   "source": [
    "river_plastics.rename(columns={'Total Pieces/L': 'p_total_pieces_litre'}, inplace=True)"
   ]
  },
  {
   "cell_type": "code",
   "execution_count": 34,
   "metadata": {},
   "outputs": [
    {
     "name": "stderr",
     "output_type": "stream",
     "text": [
      "/Users/andreacsorcinelli/anaconda3/lib/python3.6/site-packages/numpy/lib/function_base.py:780: RuntimeWarning: invalid value encountered in greater_equal\n",
      "  keep = (tmp_a >= first_edge)\n",
      "/Users/andreacsorcinelli/anaconda3/lib/python3.6/site-packages/numpy/lib/function_base.py:781: RuntimeWarning: invalid value encountered in less_equal\n",
      "  keep &= (tmp_a <= last_edge)\n"
     ]
    },
    {
     "data": {
      "image/png": "[encoded data removed]",
      "text/plain": [
       "<Figure size 432x288 with 1 Axes>"
      ]
     },
     "metadata": {},
     "output_type": "display_data"
    }
   ],
   "source": [
    "plt.hist(ocean_plastics.p_total_pieces_litre,range=[0,50],bins=50);"
   ]
  },
  {
   "cell_type": "code",
   "execution_count": 35,
   "metadata": {},
   "outputs": [
    {
     "data": {
      "image/png": "[encoded data removed]",
      "text/plain": [
       "<Figure size 432x288 with 1 Axes>"
      ]
     },
     "metadata": {},
     "output_type": "display_data"
    }
   ],
   "source": [
    "plt.hist(river_plastics.p_total_pieces_litre,range=[0,50],bins=50);"
   ]
  },
  {
   "cell_type": "code",
   "execution_count": 36,
   "metadata": {},
   "outputs": [
    {
     "data": {
      "text/plain": [
       "11.801373322605885"
      ]
     },
     "execution_count": 36,
     "metadata": {},
     "output_type": "execute_result"
    }
   ],
   "source": [
    "ocean_plastics['p_total_pieces_litre'].mean()"
   ]
  },
  {
   "cell_type": "code",
   "execution_count": 37,
   "metadata": {},
   "outputs": [
    {
     "data": {
      "text/plain": [
       "4.166666667"
      ]
     },
     "execution_count": 37,
     "metadata": {},
     "output_type": "execute_result"
    }
   ],
   "source": [
    "ocean_plastics['p_total_pieces_litre'].median()"
   ]
  },
  {
   "cell_type": "code",
   "execution_count": 38,
   "metadata": {},
   "outputs": [
    {
     "data": {
      "text/plain": [
       "243.07692310000002"
      ]
     },
     "execution_count": 38,
     "metadata": {},
     "output_type": "execute_result"
    }
   ],
   "source": [
    "ocean_plastics['p_total_pieces_litre'].max()"
   ]
  },
  {
   "cell_type": "code",
   "execution_count": 39,
   "metadata": {},
   "outputs": [
    {
     "data": {
      "text/plain": [
       "1.2821307868711602"
      ]
     },
     "execution_count": 39,
     "metadata": {},
     "output_type": "execute_result"
    }
   ],
   "source": [
    "river_plastics['p_total_pieces_litre'].mean()"
   ]
  },
  {
   "cell_type": "code",
   "execution_count": 40,
   "metadata": {},
   "outputs": [
    {
     "data": {
      "text/plain": [
       "0.0"
      ]
     },
     "execution_count": 40,
     "metadata": {},
     "output_type": "execute_result"
    }
   ],
   "source": [
    "river_plastics['p_total_pieces_litre'].median()"
   ]
  },
  {
   "cell_type": "code",
   "execution_count": 41,
   "metadata": {},
   "outputs": [
    {
     "data": {
      "text/plain": [
       "27.77777778"
      ]
     },
     "execution_count": 41,
     "metadata": {},
     "output_type": "execute_result"
    }
   ],
   "source": [
    "river_plastics['p_total_pieces_litre'].max()"
   ]
  },
  {
   "cell_type": "markdown",
   "metadata": {},
   "source": [
    "### models"
   ]
  },
  {
   "cell_type": "code",
   "execution_count": null,
   "metadata": {},
   "outputs": [],
   "source": [
    "# baseline model, not in this notebook had RMSE of 30 pieces/litre"
   ]
  },
  {
   "cell_type": "code",
   "execution_count": 14,
   "metadata": {},
   "outputs": [],
   "source": [
    "from sklearn.model_selection import train_test_split\n",
    "from sklearn.ensemble import RandomForestRegressor, GradientBoostingRegressor\n",
    "from sklearn.linear_model import LinearRegression"
   ]
  },
  {
   "cell_type": "code",
   "execution_count": 15,
   "metadata": {},
   "outputs": [],
   "source": [
    "X_train, X_test, y_train, y_test = train_test_split(X, y, test_size=0.3,\n",
    "                                                    random_state=42)"
   ]
  },
  {
   "cell_type": "code",
   "execution_count": 16,
   "metadata": {},
   "outputs": [
    {
     "data": {
      "text/plain": [
       "20.09406554033827"
      ]
     },
     "execution_count": 16,
     "metadata": {},
     "output_type": "execute_result"
    }
   ],
   "source": [
    "model_lr = LinearRegression(fit_intercept=True)\n",
    "model_lr.fit(X_train, y_train)\n",
    "pred_vals_lr = model_lr.predict(X_test)\n",
    "RMSE_lr = np.sqrt(np.sum((pred_vals_lr - y_test)**2)/len(y_test))\n",
    "RMSE_lr"
   ]
  },
  {
   "cell_type": "code",
   "execution_count": 17,
   "metadata": {},
   "outputs": [
    {
     "data": {
      "text/plain": [
       "[('ocean_inland_cat', 17.371984832185667),\n",
       " ('r_vol_1', 0.21060301765538936),\n",
       " ('distance_from_city_3', 0.1206703215490596),\n",
       " ('distance_from_river_1', 0.11464327545208475),\n",
       " ('distance_from_river_2', 0.11272144126148441),\n",
       " ('distance_from_city_2', 0.10530120252764878),\n",
       " ('p_lat', 0.05205996321412718),\n",
       " ('r_vol_2', 0.02397173251438953),\n",
       " ('distance_from_river_3', 0.023445938463652248),\n",
       " ('distance_from_city_1', 0.01718576378174618),\n",
       " ('p_long', 0.007403457133940179),\n",
       " ('r_vol_3', 0.0005155405605402184),\n",
       " ('c_population_1', 1.209143343767257e-06),\n",
       " ('c_population_2', 6.867554251882915e-07),\n",
       " ('c_population_3', 1.9146899513664342e-07)]"
      ]
     },
     "execution_count": 17,
     "metadata": {},
     "output_type": "execute_result"
    }
   ],
   "source": [
    "sorted(zip(X.columns,abs(model_lr.coef_)), key=lambda x: -x[1])"
   ]
  },
  {
   "cell_type": "code",
   "execution_count": 18,
   "metadata": {},
   "outputs": [],
   "source": [
    "# increasing number of trees\n",
    "rfmodel1 = RandomForestRegressor(n_estimators = 100, max_features = 3,\n",
    "                                min_samples_leaf = 5, n_jobs=4)\n",
    "rfmodel1.fit(X_train,y_train)\n",
    "pred_vals_rf1 = rfmodel1.predict(X_test)"
   ]
  },
  {
   "cell_type": "code",
   "execution_count": 19,
   "metadata": {},
   "outputs": [
    {
     "data": {
      "text/plain": [
       "19.720493449039697"
      ]
     },
     "execution_count": 19,
     "metadata": {},
     "output_type": "execute_result"
    }
   ],
   "source": [
    "RMSE_rf1 = np.sqrt(np.sum((pred_vals_rf1 - y_test)**2)/len(y_test))\n",
    "RMSE_rf1"
   ]
  },
  {
   "cell_type": "code",
   "execution_count": 20,
   "metadata": {},
   "outputs": [
    {
     "data": {
      "text/plain": [
       "[('p_lat', 0.3281482536404796),\n",
       " ('p_long', 0.2902142261330064),\n",
       " ('distance_from_river_3', 0.06625651589287906),\n",
       " ('distance_from_river_2', 0.06463154194587237),\n",
       " ('c_population_2', 0.03884590941112415),\n",
       " ('r_vol_2', 0.03719013993663257),\n",
       " ('ocean_inland_cat', 0.03387921508142424),\n",
       " ('c_population_3', 0.02862463157246206),\n",
       " ('distance_from_river_1', 0.026278375639008367),\n",
       " ('r_vol_1', 0.025149656466274317),\n",
       " ('distance_from_city_3', 0.01719060454706816),\n",
       " ('r_vol_3', 0.017129584015917833),\n",
       " ('distance_from_city_1', 0.011835415649323222),\n",
       " ('distance_from_city_2', 0.010158718646300463),\n",
       " ('c_population_1', 0.004467211422227334)]"
      ]
     },
     "execution_count": 20,
     "metadata": {},
     "output_type": "execute_result"
    }
   ],
   "source": [
    "sorted(zip(X.columns,abs(rfmodel1.feature_importances_)), key=lambda x: -x[1])"
   ]
  },
  {
   "cell_type": "code",
   "execution_count": 21,
   "metadata": {},
   "outputs": [],
   "source": [
    "# different max features\n",
    "rfmodel2 = RandomForestRegressor(n_estimators = 1000, max_features = 3,\n",
    "                                min_samples_leaf = 4, n_jobs=4)\n",
    "rfmodel2.fit(X_train,y_train)\n",
    "pred_vals_rf2 = rfmodel2.predict(X_test)"
   ]
  },
  {
   "cell_type": "code",
   "execution_count": 22,
   "metadata": {},
   "outputs": [
    {
     "data": {
      "text/plain": [
       "19.545624119440795"
      ]
     },
     "execution_count": 22,
     "metadata": {},
     "output_type": "execute_result"
    }
   ],
   "source": [
    "RMSE_rf2 = np.sqrt(np.sum((pred_vals_rf2 - y_test)**2)/len(y_test))\n",
    "RMSE_rf2"
   ]
  },
  {
   "cell_type": "code",
   "execution_count": 23,
   "metadata": {},
   "outputs": [
    {
     "data": {
      "text/plain": [
       "[('p_lat', 0.3532991784229849),\n",
       " ('p_long', 0.3109483672812691),\n",
       " ('distance_from_river_3', 0.05774368431266231),\n",
       " ('distance_from_river_2', 0.051461944698838864),\n",
       " ('ocean_inland_cat', 0.04129069325292203),\n",
       " ('r_vol_2', 0.03575081821709761),\n",
       " ('c_population_2', 0.029271454271847984),\n",
       " ('c_population_3', 0.021175449356898402),\n",
       " ('distance_from_city_3', 0.019049246336149784),\n",
       " ('distance_from_city_2', 0.017410497786873123),\n",
       " ('distance_from_river_1', 0.015992986810398124),\n",
       " ('r_vol_1', 0.015751043179321363),\n",
       " ('r_vol_3', 0.012946121083142277),\n",
       " ('distance_from_city_1', 0.011055453511182499),\n",
       " ('c_population_1', 0.006853061478412007)]"
      ]
     },
     "execution_count": 23,
     "metadata": {},
     "output_type": "execute_result"
    }
   ],
   "source": [
    "sorted(zip(X.columns,abs(rfmodel2.feature_importances_)), key=lambda x: -x[1])"
   ]
  },
  {
   "cell_type": "code",
   "execution_count": 24,
   "metadata": {},
   "outputs": [],
   "source": [
    "# increasing number of iterations\n",
    "gbmodel1 = GradientBoostingRegressor(n_estimators = 100, \n",
    "                                     learning_rate = .1,\n",
    "                                    max_depth = 4)\n",
    "gbmodel1.fit(X_train,y_train)\n",
    "pred_vals_gb1 = gbmodel1.predict(X_test)"
   ]
  },
  {
   "cell_type": "code",
   "execution_count": 25,
   "metadata": {},
   "outputs": [
    {
     "data": {
      "text/plain": [
       "19.032603259517504"
      ]
     },
     "execution_count": 25,
     "metadata": {},
     "output_type": "execute_result"
    }
   ],
   "source": [
    "RMSE_gb1 = np.sqrt(np.sum((pred_vals_gb1 - y_test)**2)/len(y_test))\n",
    "RMSE_gb1"
   ]
  },
  {
   "cell_type": "code",
   "execution_count": 26,
   "metadata": {},
   "outputs": [],
   "source": [
    "# different depths\n",
    "gbmodel2 = GradientBoostingRegressor(n_estimators = 1000, \n",
    "                                     learning_rate = .1,\n",
    "                                    max_depth = 7)\n",
    "gbmodel2.fit(X_train,y_train)\n",
    "pred_vals_gb2 = gbmodel2.predict(X_test)"
   ]
  },
  {
   "cell_type": "code",
   "execution_count": 27,
   "metadata": {},
   "outputs": [
    {
     "data": {
      "text/plain": [
       "20.35097459302796"
      ]
     },
     "execution_count": 27,
     "metadata": {},
     "output_type": "execute_result"
    }
   ],
   "source": [
    "RMSE_gb2 = np.sqrt(np.sum((pred_vals_gb2 - y_test)**2)/len(y_test))\n",
    "RMSE_gb2"
   ]
  },
  {
   "cell_type": "markdown",
   "metadata": {},
   "source": [
    "### ocean only model"
   ]
  },
  {
   "cell_type": "code",
   "execution_count": null,
   "metadata": {},
   "outputs": [],
   "source": [
    "# just because i was curious, here is the best performing model a gb regression, on just the ocean samples"
   ]
  },
  {
   "cell_type": "code",
   "execution_count": 49,
   "metadata": {},
   "outputs": [],
   "source": [
    "ocean_plastics = pd.read_csv('master_ocean_datasheet.csv', encoding = 'ISO-8859-1')"
   ]
  },
  {
   "cell_type": "code",
   "execution_count": 50,
   "metadata": {},
   "outputs": [
    {
     "name": "stdout",
     "output_type": "stream",
     "text": [
      "Index(['p_lat', 'p_long', 'ocean_inland', 'ocean_inland_cat', 'sample_waters',\n",
      "       'c_city_1', 'c_country_1', 'c_population_1', 'distance_from_city_1',\n",
      "       'c_city_2', 'c_country_2', 'c_population_2', 'distance_from_city_2',\n",
      "       'c_city_3', 'c_country_3', 'c_population_3', 'distance_from_city_3',\n",
      "       'r_name_1', 'r_vol_1', 'distance_from_river_1', 'r_name_2', 'r_vol_2',\n",
      "       'distance_from_river_2', 'r_name_3', 'r_vol_3',\n",
      "       'distance_from_river_3'],\n",
      "      dtype='object')\n"
     ]
    }
   ],
   "source": [
    "X = plastics.loc[:,'p_lat':'distance_from_river_3']\n",
    "y = plastics['p_total_pieces_litre']\n",
    "print(X.columns)"
   ]
  },
  {
   "cell_type": "code",
   "execution_count": 51,
   "metadata": {},
   "outputs": [],
   "source": [
    "X = X.drop(columns = ['c_city_1','c_country_1','c_city_2','c_country_2','c_city_3','c_country_3',\\\n",
    "                     'r_name_1','r_name_2','r_name_3','sample_waters','ocean_inland','ocean_inland_cat'])"
   ]
  },
  {
   "cell_type": "code",
   "execution_count": 52,
   "metadata": {},
   "outputs": [
    {
     "data": {
      "text/html": [
       "<div>\n",
       "<style scoped>\n",
       "    .dataframe tbody tr th:only-of-type {\n",
       "        vertical-align: middle;\n",
       "    }\n",
       "\n",
       "    .dataframe tbody tr th {\n",
       "        vertical-align: top;\n",
       "    }\n",
       "\n",
       "    .dataframe thead th {\n",
       "        text-align: right;\n",
       "    }\n",
       "</style>\n",
       "<table border=\"1\" class=\"dataframe\">\n",
       "  <thead>\n",
       "    <tr style=\"text-align: right;\">\n",
       "      <th></th>\n",
       "      <th>p_lat</th>\n",
       "      <th>p_long</th>\n",
       "      <th>c_population_1</th>\n",
       "      <th>distance_from_city_1</th>\n",
       "      <th>c_population_2</th>\n",
       "      <th>distance_from_city_2</th>\n",
       "      <th>c_population_3</th>\n",
       "      <th>distance_from_city_3</th>\n",
       "      <th>r_vol_1</th>\n",
       "      <th>distance_from_river_1</th>\n",
       "      <th>r_vol_2</th>\n",
       "      <th>distance_from_river_2</th>\n",
       "      <th>r_vol_3</th>\n",
       "      <th>distance_from_river_3</th>\n",
       "    </tr>\n",
       "  </thead>\n",
       "  <tbody>\n",
       "    <tr>\n",
       "      <th>0</th>\n",
       "      <td>59.378683</td>\n",
       "      <td>-153.520867</td>\n",
       "      <td>1148</td>\n",
       "      <td>899.614321</td>\n",
       "      <td>19616</td>\n",
       "      <td>1032.655446</td>\n",
       "      <td>540</td>\n",
       "      <td>1040.987575</td>\n",
       "      <td>31.0</td>\n",
       "      <td>225.769431</td>\n",
       "      <td>45.0</td>\n",
       "      <td>288.208881</td>\n",
       "      <td>57.0</td>\n",
       "      <td>375.228343</td>\n",
       "    </tr>\n",
       "    <tr>\n",
       "      <th>1</th>\n",
       "      <td>59.368133</td>\n",
       "      <td>-153.552333</td>\n",
       "      <td>1148</td>\n",
       "      <td>899.614321</td>\n",
       "      <td>1148</td>\n",
       "      <td>901.658282</td>\n",
       "      <td>19616</td>\n",
       "      <td>1032.655446</td>\n",
       "      <td>31.0</td>\n",
       "      <td>223.979313</td>\n",
       "      <td>31.0</td>\n",
       "      <td>225.769431</td>\n",
       "      <td>45.0</td>\n",
       "      <td>288.208881</td>\n",
       "    </tr>\n",
       "    <tr>\n",
       "      <th>2</th>\n",
       "      <td>59.341467</td>\n",
       "      <td>-153.549767</td>\n",
       "      <td>1148</td>\n",
       "      <td>899.614321</td>\n",
       "      <td>1148</td>\n",
       "      <td>901.658282</td>\n",
       "      <td>1148</td>\n",
       "      <td>902.375026</td>\n",
       "      <td>31.0</td>\n",
       "      <td>223.979313</td>\n",
       "      <td>31.0</td>\n",
       "      <td>224.132067</td>\n",
       "      <td>31.0</td>\n",
       "      <td>225.769431</td>\n",
       "    </tr>\n",
       "    <tr>\n",
       "      <th>3</th>\n",
       "      <td>59.638717</td>\n",
       "      <td>-153.395667</td>\n",
       "      <td>1148</td>\n",
       "      <td>884.968485</td>\n",
       "      <td>1148</td>\n",
       "      <td>899.614321</td>\n",
       "      <td>1148</td>\n",
       "      <td>901.658282</td>\n",
       "      <td>31.0</td>\n",
       "      <td>223.979313</td>\n",
       "      <td>31.0</td>\n",
       "      <td>224.132067</td>\n",
       "      <td>31.0</td>\n",
       "      <td>225.769431</td>\n",
       "    </tr>\n",
       "    <tr>\n",
       "      <th>4</th>\n",
       "      <td>59.373600</td>\n",
       "      <td>-153.448067</td>\n",
       "      <td>1148</td>\n",
       "      <td>884.968485</td>\n",
       "      <td>1148</td>\n",
       "      <td>895.825488</td>\n",
       "      <td>1148</td>\n",
       "      <td>899.614321</td>\n",
       "      <td>31.0</td>\n",
       "      <td>223.979313</td>\n",
       "      <td>31.0</td>\n",
       "      <td>224.132067</td>\n",
       "      <td>31.0</td>\n",
       "      <td>225.769431</td>\n",
       "    </tr>\n",
       "  </tbody>\n",
       "</table>\n",
       "</div>"
      ],
      "text/plain": [
       "       p_lat      p_long  c_population_1  distance_from_city_1  \\\n",
       "0  59.378683 -153.520867            1148            899.614321   \n",
       "1  59.368133 -153.552333            1148            899.614321   \n",
       "2  59.341467 -153.549767            1148            899.614321   \n",
       "3  59.638717 -153.395667            1148            884.968485   \n",
       "4  59.373600 -153.448067            1148            884.968485   \n",
       "\n",
       "   c_population_2  distance_from_city_2  c_population_3  distance_from_city_3  \\\n",
       "0           19616           1032.655446             540           1040.987575   \n",
       "1            1148            901.658282           19616           1032.655446   \n",
       "2            1148            901.658282            1148            902.375026   \n",
       "3            1148            899.614321            1148            901.658282   \n",
       "4            1148            895.825488            1148            899.614321   \n",
       "\n",
       "   r_vol_1  distance_from_river_1  r_vol_2  distance_from_river_2  r_vol_3  \\\n",
       "0     31.0             225.769431     45.0             288.208881     57.0   \n",
       "1     31.0             223.979313     31.0             225.769431     45.0   \n",
       "2     31.0             223.979313     31.0             224.132067     31.0   \n",
       "3     31.0             223.979313     31.0             224.132067     31.0   \n",
       "4     31.0             223.979313     31.0             224.132067     31.0   \n",
       "\n",
       "   distance_from_river_3  \n",
       "0             375.228343  \n",
       "1             288.208881  \n",
       "2             225.769431  \n",
       "3             225.769431  \n",
       "4             225.769431  "
      ]
     },
     "execution_count": 52,
     "metadata": {},
     "output_type": "execute_result"
    }
   ],
   "source": [
    "X.head()"
   ]
  },
  {
   "cell_type": "code",
   "execution_count": 53,
   "metadata": {},
   "outputs": [],
   "source": [
    "X_train, X_test, y_train, y_test = train_test_split(X, y, test_size=0.3,\n",
    "                                                    random_state=42)"
   ]
  },
  {
   "cell_type": "code",
   "execution_count": 54,
   "metadata": {},
   "outputs": [],
   "source": [
    "gbmodel1 = GradientBoostingRegressor(n_estimators = 100, \n",
    "                                     learning_rate = .1,\n",
    "                                    max_depth = 4)\n",
    "gbmodel1.fit(X_train,y_train)\n",
    "pred_vals_gb1 = gbmodel1.predict(X_test)"
   ]
  },
  {
   "cell_type": "code",
   "execution_count": 55,
   "metadata": {},
   "outputs": [
    {
     "data": {
      "text/plain": [
       "18.796682482184735"
      ]
     },
     "execution_count": 55,
     "metadata": {},
     "output_type": "execute_result"
    }
   ],
   "source": [
    "RMSE_gb1 = np.sqrt(np.sum((pred_vals_gb1 - y_test)**2)/len(y_test))\n",
    "RMSE_gb1"
   ]
  }
 ],
 "metadata": {
  "kernelspec": {
   "display_name": "Python 3",
   "language": "python",
   "name": "python3"
  },
  "language_info": {
   "codemirror_mode": {
    "name": "ipython",
    "version": 3
   },
   "file_extension": ".py",
   "mimetype": "text/x-python",
   "name": "python",
   "nbconvert_exporter": "python",
   "pygments_lexer": "ipython3",
   "version": "3.6.5"
  }
 },
 "nbformat": 4,
 "nbformat_minor": 1
}
